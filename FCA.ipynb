{
 "cells": [
  {
   "cell_type": "code",
   "execution_count": 1,
   "metadata": {
    "collapsed": true
   },
   "outputs": [],
   "source": [
    "import numpy as np\n",
    "from sklearn.discriminant_analysis import LinearDiscriminantAnalysis\n",
    "from sklearn.linear_model import LogisticRegression\n",
    "from sklearn.feature_selection import r_regression\n",
    "from sklearn.model_selection import GridSearchCV, StratifiedKFold\n",
    "from tqdm.notebook import tqdm\n",
    "import pandas as pd\n",
    "import matplotlib.pyplot as plt\n",
    "from copy import deepcopy"
   ]
  },
  {
   "cell_type": "code",
   "execution_count": 2,
   "outputs": [],
   "source": [
    "class ClusteringTransformer:\n",
    "    \"\"\"\n",
    "    This object does the clustering and weighting of FCA. Given features and a target, it:\n",
    "    - computes the similarity matrix between features\n",
    "    - uses this similarity matrix to cluster the features\n",
    "    - trains a linear model to weigh the clusters\n",
    "\n",
    "    It also follows the sklearn standard, so it can be used with sklearn utilities\n",
    "    \"\"\"\n",
    "\n",
    "    def __init__(self, clusterer, metric=None, lr=True):\n",
    "        \"\"\"\n",
    "        Create a ClusteringTransformer object\n",
    "        :param clusterer: The clustering algorithm (must follow sklearn standard)\n",
    "        :param metric: The similarity metric. Uses R^2 by default\n",
    "        :param lr: Whether to use Logistic Regression or LDA\n",
    "        \"\"\"\n",
    "        self.clusterer = clusterer\n",
    "        if metric is None:\n",
    "            self.metric = lambda X, y: r_regression(X, y) ** 2\n",
    "        else:\n",
    "            self.metric = metric\n",
    "        self.use_lr = lr  # Use LR (as opposed to LDA)\n",
    "        self.feature_loadings = None  # Holds the LR/LDA for each feature cluster\n",
    "        self.feature_masks = None  # Holds assignments of features to clusters\n",
    "        self.n_clusters = None  # Holds the number of clusters\n",
    "\n",
    "    def fit(self, X, y):\n",
    "        \"\"\"\n",
    "        Fit the model\n",
    "        :param X: The features (n_samples, n_features)\n",
    "        :param y: The target (n_samples,)\n",
    "        :return: A fitted model\n",
    "        \"\"\"\n",
    "        # Step 1 - construct a similarity matrix\n",
    "        similarity_matrix = np.empty(shape=(X.shape[1], X.shape[1]))\n",
    "        for i in range(X.shape[1]):\n",
    "            similarity_matrix[:, i] = self.metric(X, X[:, i])\n",
    "\n",
    "        # Step 2 - cluster based on the similarity matrix\n",
    "        self.clusterer.fit(similarity_matrix)\n",
    "        labels = np.unique(self.clusterer.labels_, return_inverse=True)[1]\n",
    "        self.n_clusters = labels.max() + 1\n",
    "\n",
    "        # Step 3 - extract loadings for our task\n",
    "        self.feature_loadings = np.empty(shape=(self.n_clusters,), dtype=object)\n",
    "        self.feature_masks = np.empty(shape=(self.n_clusters, X.shape[1]), dtype=bool)\n",
    "        for i in range(self.n_clusters):\n",
    "            mask = labels == i\n",
    "            self.feature_masks[i, :] = mask\n",
    "\n",
    "            # Run LDA/LR to dimension-reduce this feature set\n",
    "            if self.use_lr:\n",
    "                model = LogisticRegression()\n",
    "                model.fit(X[:, mask], y)\n",
    "            else:\n",
    "                model = LinearDiscriminantAnalysis(n_components=1, shrinkage='auto', solver='eigen')\n",
    "                model.fit(X[:, mask], y)\n",
    "            self.feature_loadings[i] = model\n",
    "\n",
    "        return self\n",
    "\n",
    "    def transform(self, X):\n",
    "        \"\"\"\n",
    "        Transform data using the fitted model\n",
    "        :param X: The features to transform (n_samples, n_features)\n",
    "        :return: The transformed features (n_features, n_clusters)\n",
    "        \"\"\"\n",
    "        Xt = np.empty(shape=(X.shape[0], self.n_clusters))\n",
    "\n",
    "        for i, (loading, mask) in enumerate(zip(self.feature_loadings, self.feature_masks)):\n",
    "            if self.use_lr:\n",
    "                Xt[:, i] = (self.feature_loadings[i].coef_[0][None, :] * X[:, mask]).sum(axis=1)\n",
    "            else:\n",
    "                Xt[:, i] = self.feature_loadings[i].transform(X[:, mask])[:, 0]\n",
    "        return Xt"
   ],
   "metadata": {
    "collapsed": false
   }
  },
  {
   "cell_type": "code",
   "execution_count": 3,
   "outputs": [],
   "source": [
    "# Read in data\n",
    "meta_df = pd.read_csv('bawe_corpus.csv', index_col=1)\n",
    "\n",
    "# Grab target\n",
    "labels = meta_df['grade'].values\n",
    "target = 1 - np.unique(labels, return_inverse=True)[1]\n",
    "\n",
    "# Grab features\n",
    "docuscope_df = pd.read_csv('bawe_feats/docuscope_ngram/1.csv', index_col=0)\n",
    "pos_df = pd.read_csv('bawe_feats/pos_ngram/1.csv', index_col=0)\n",
    "# pos2_df = pd.read_csv('bawe_feats/pos_ngram/2.csv', index_col=0)\n",
    "# docu2_df = pd.read_csv('bawe_feats/docuscope_ngram/2.csv', index_col=0)\n",
    "biber_df = pd.read_csv('bawe_feats/biber.csv', index_col=0)\n",
    "\n",
    "\n",
    "fdf = docuscope_df.join(biber_df, lsuffix='docu', rsuffix='biber')\n",
    "fdf = fdf.join(pos_df, rsuffix='pos')\n",
    "# fdf = fdf.join(pos2_df, rsuffix='pos 2')\n",
    "# fdf = fdf.join(docu2_df, rsuffix='docu 2')\n",
    "\n",
    "fdf = fdf.loc[meta_df.index]\n",
    "feature_names = np.array(fdf.columns)\n",
    "\n",
    "\n",
    "features = fdf.values\n",
    "# features = features.astype(float)\n",
    "features = (features - features.mean(axis=0)) / features.std(axis=0)\n",
    "xmask = ~np.isnan(features.sum(axis=0))\n",
    "features = features[:, xmask]\n",
    "feature_names = feature_names[xmask]"
   ],
   "metadata": {
    "collapsed": false
   }
  },
  {
   "cell_type": "code",
   "execution_count": 4,
   "outputs": [],
   "source": [
    "from sklearn.metrics import accuracy_score, balanced_accuracy_score, roc_auc_score\n",
    "\n",
    "# Generate 10 random 10-fold splits. This is a bit overkill.\n",
    "splits = []\n",
    "for i in range(10):\n",
    "    skf = StratifiedKFold(n_splits=10, shuffle=True, random_state=i)\n",
    "    splits += list(skf.split(np.empty_like(target), target))\n",
    "\n",
    "def evaluate_on_split(model):\n",
    "    acs, bas, aucs = [], [], []\n",
    "    for train, test in splits:\n",
    "        model.fit(features[train], target[train])\n",
    "        y_hat = model.predict(features[test])\n",
    "        y_prob = model.predict_proba(features[test])[:, 1]\n",
    "\n",
    "        acs.append(accuracy_score(target[test], y_hat))\n",
    "        bas.append(balanced_accuracy_score(target[test], y_hat))\n",
    "        aucs.append(roc_auc_score(target[test], y_prob))\n",
    "    return acs, bas, aucs"
   ],
   "metadata": {
    "collapsed": false
   }
  },
  {
   "cell_type": "code",
   "execution_count": 6,
   "outputs": [],
   "source": [
    "# Our FCA Model\n",
    "from sklearn.pipeline import Pipeline\n",
    "from sklearn.cluster import AffinityPropagation\n",
    "\n",
    "fca_model = Pipeline([\n",
    "    ('ct', ClusteringTransformer(AffinityPropagation(affinity='precomputed', max_iter=1000), lr=True)),\n",
    "    ('pred', LogisticRegression(class_weight='balanced'))\n",
    "])\n",
    "\n",
    "# PCA Model\n",
    "from sklearn.decomposition import PCA\n",
    "\n",
    "pca_model = GridSearchCV(\n",
    "    estimator=Pipeline([\n",
    "        ('pca', PCA()),\n",
    "        ('pred', LogisticRegression(class_weight='balanced'))\n",
    "    ]),\n",
    "    param_grid={'pca__n_components': [2, 3, 5, 10, 15, 20,]}\n",
    ")\n",
    "\n",
    "# Factor Analysis Model\n",
    "from sklearn.decomposition import FactorAnalysis\n",
    "\n",
    "fa_model = GridSearchCV(\n",
    "    estimator=Pipeline([\n",
    "        ('fa', FactorAnalysis()),\n",
    "        ('pred', LogisticRegression(class_weight='balanced'))\n",
    "    ]),\n",
    "    param_grid={'fa__n_components': [2, 3, 5, 10, 15, 20,]}\n",
    ")\n",
    "\n",
    "# No Dimensionality Reduction Model\n",
    "simple_model = LogisticRegression(max_iter=1000, class_weight='balanced')\n",
    "\n",
    "models = {\n",
    "    'FCA': fca_model,\n",
    "    'PCA': pca_model,\n",
    "    'Factor Analysis': fa_model,\n",
    "    'Base Features': simple_model,\n",
    "}"
   ],
   "metadata": {
    "collapsed": false
   }
  },
  {
   "cell_type": "code",
   "execution_count": 7,
   "outputs": [
    {
     "name": "stdout",
     "output_type": "stream",
     "text": [
      "Running FCA...\n",
      "0.6047081081081082 0.5895142156862745 0.6240868856209151\n",
      "Running PCA...\n",
      "0.5883261261261261 0.5805906862745097 0.6188971601307188\n",
      "Running Factor Analysis...\n",
      "0.5970414414414413 0.5873803921568627 0.6215499575163398\n",
      "Running Base Features...\n",
      "0.590854054054054 0.5766676470588236 0.5996369379084967\n"
     ]
    },
    {
     "data": {
      "text/plain": "            Method  Avg. Acc.  Std. Acc.   Avg. BA   Std. BA  Avg. ROC AUC  \\\n0              FCA   0.604708   0.052521  0.589514  0.055244      0.624087   \n1              PCA   0.588326   0.048206  0.580591  0.050372      0.618897   \n2  Factor Analysis   0.597041   0.052741  0.587380  0.056139      0.621550   \n3    Base Features   0.590854   0.051226  0.576668  0.054691      0.599637   \n\n   Std. ROC AUC  \n0      0.059546  \n1      0.056659  \n2      0.056956  \n3      0.065523  ",
      "text/html": "<div>\n<style scoped>\n    .dataframe tbody tr th:only-of-type {\n        vertical-align: middle;\n    }\n\n    .dataframe tbody tr th {\n        vertical-align: top;\n    }\n\n    .dataframe thead th {\n        text-align: right;\n    }\n</style>\n<table border=\"1\" class=\"dataframe\">\n  <thead>\n    <tr style=\"text-align: right;\">\n      <th></th>\n      <th>Method</th>\n      <th>Avg. Acc.</th>\n      <th>Std. Acc.</th>\n      <th>Avg. BA</th>\n      <th>Std. BA</th>\n      <th>Avg. ROC AUC</th>\n      <th>Std. ROC AUC</th>\n    </tr>\n  </thead>\n  <tbody>\n    <tr>\n      <th>0</th>\n      <td>FCA</td>\n      <td>0.604708</td>\n      <td>0.052521</td>\n      <td>0.589514</td>\n      <td>0.055244</td>\n      <td>0.624087</td>\n      <td>0.059546</td>\n    </tr>\n    <tr>\n      <th>1</th>\n      <td>PCA</td>\n      <td>0.588326</td>\n      <td>0.048206</td>\n      <td>0.580591</td>\n      <td>0.050372</td>\n      <td>0.618897</td>\n      <td>0.056659</td>\n    </tr>\n    <tr>\n      <th>2</th>\n      <td>Factor Analysis</td>\n      <td>0.597041</td>\n      <td>0.052741</td>\n      <td>0.587380</td>\n      <td>0.056139</td>\n      <td>0.621550</td>\n      <td>0.056956</td>\n    </tr>\n    <tr>\n      <th>3</th>\n      <td>Base Features</td>\n      <td>0.590854</td>\n      <td>0.051226</td>\n      <td>0.576668</td>\n      <td>0.054691</td>\n      <td>0.599637</td>\n      <td>0.065523</td>\n    </tr>\n  </tbody>\n</table>\n</div>"
     },
     "execution_count": 7,
     "metadata": {},
     "output_type": "execute_result"
    }
   ],
   "source": [
    "model_info = []\n",
    "\n",
    "# run the evaluations for each model. this takes some time!\n",
    "for name, model in models.items():\n",
    "    print(f'Running {name}...')\n",
    "    acs, bas, aucs = evaluate_on_split(model)\n",
    "    print(np.mean(acs), np.mean(bas), np.mean(aucs))\n",
    "    model_info.append([name, np.mean(acs), np.std(acs), np.mean(bas), np.std(bas), np.mean(aucs), np.std(aucs)])\n",
    "\n",
    "model_df = pd.DataFrame(\n",
    "    model_info,\n",
    "    columns=[\n",
    "        'Method',\n",
    "        'Avg. Acc.', 'Std. Acc.',\n",
    "        'Avg. BA', 'Std. BA',\n",
    "        'Avg. ROC AUC', 'Std. ROC AUC',\n",
    "    ]\n",
    ")\n",
    "model_df"
   ],
   "metadata": {
    "collapsed": false
   }
  },
  {
   "cell_type": "code",
   "execution_count": 8,
   "outputs": [],
   "source": [
    "model_df.to_csv('performance.csv', index=False)"
   ],
   "metadata": {
    "collapsed": false
   }
  },
  {
   "cell_type": "markdown",
   "source": [
    "# Feature Loadings\n",
    "\n",
    "Training our clustering on the entire dataset to get feature loadings."
   ],
   "metadata": {
    "collapsed": false
   }
  },
  {
   "cell_type": "code",
   "execution_count": 11,
   "outputs": [],
   "source": [
    "def lr_CI(X, y, model, n=1000, alpha=0.95, p=0.90, rs=10):\n",
    "    \"\"\"\n",
    "    Uses bootstrapping to estimate a p-value\n",
    "    \"\"\"\n",
    "    np.random.seed(rs)\n",
    "    m = deepcopy(model)\n",
    "    vals = np.empty(shape=(X.shape[1], n))\n",
    "    for i in range(n):\n",
    "        # Take a subset of the model and get the coefficients again\n",
    "        mask = np.random.choice(2, size=(X.shape[0],), p=[1 - p, p]).astype(bool)\n",
    "        m.fit(X[mask], y[mask])\n",
    "        vals[:, i] = m.coef_[0]\n",
    "\n",
    "    # Calculate the lower and upper confidence bounds\n",
    "    lower_idx, upper_idx = int(n * (1 - (alpha / 2))), int(n * (alpha / 2))\n",
    "    vals.sort(axis=1)\n",
    "    return ~((vals[:, lower_idx] <= 0.0) & (vals[:, upper_idx] >= 0.0))\n"
   ],
   "metadata": {
    "collapsed": false
   }
  },
  {
   "cell_type": "code",
   "execution_count": 12,
   "outputs": [
    {
     "data": {
      "text/plain": "               Feature Macro-feature Coefficient Overall Coefficient  \\\n0  ('CitationHedged',)                  0.100174           -0.016233   \n1     K57.suasiveVerbs                  0.031965            -0.00518   \n\n  Significant (95% CI)  \n0                 True  \n1                 True  ",
      "text/html": "<div>\n<style scoped>\n    .dataframe tbody tr th:only-of-type {\n        vertical-align: middle;\n    }\n\n    .dataframe tbody tr th {\n        vertical-align: top;\n    }\n\n    .dataframe thead th {\n        text-align: right;\n    }\n</style>\n<table border=\"1\" class=\"dataframe\">\n  <thead>\n    <tr style=\"text-align: right;\">\n      <th></th>\n      <th>Feature</th>\n      <th>Macro-feature Coefficient</th>\n      <th>Overall Coefficient</th>\n      <th>Significant (95% CI)</th>\n    </tr>\n  </thead>\n  <tbody>\n    <tr>\n      <th>0</th>\n      <td>('CitationHedged',)</td>\n      <td>0.100174</td>\n      <td>-0.016233</td>\n      <td>True</td>\n    </tr>\n    <tr>\n      <th>1</th>\n      <td>K57.suasiveVerbs</td>\n      <td>0.031965</td>\n      <td>-0.00518</td>\n      <td>True</td>\n    </tr>\n  </tbody>\n</table>\n</div>"
     },
     "metadata": {},
     "output_type": "display_data"
    },
    {
     "data": {
      "text/plain": "                  Feature Macro-feature Coefficient Overall Coefficient  \\\n0                ('ADP',)                  0.497501            0.310336   \n1              ('PROPN',)                  0.468559            0.292282   \n2              ('PUNCT',)                  0.420398             0.26224   \n3               ('PART',)                   0.27818            0.173526   \n4              ('SPACE',)                  0.108548            0.067711   \n5               ('X',)pos                  0.079206            0.049408   \n6                ('SYM',)                   0.02095            0.013069   \n7                ('NUM',)                  0.001617            0.001009   \n8                  ('X',)                 -0.004802           -0.002995   \n9        ('Interactive',)                 -0.044485           -0.027749   \n10       ('Description',)                 -0.072195           -0.045035   \n11         ('Narrative',)                 -0.081216           -0.050662   \n12          ('Positive',)                 -0.123447           -0.077005   \n13               ('DET',)                 -0.145695           -0.090883   \n14          ('Negative',)                 -0.299101           -0.186576   \n15         ('Character',)                 -0.377214           -0.235302   \n16  ('InformationPlace',)                 -0.449384           -0.280321   \n17       ('PublicTerms',)                 -0.528599           -0.329734   \n\n   Significant (95% CI)  \n0                  True  \n1                  True  \n2                  True  \n3                  True  \n4                  True  \n5                  True  \n6                  True  \n7                  True  \n8                  True  \n9                  True  \n10                 True  \n11                 True  \n12                 True  \n13                 True  \n14                 True  \n15                 True  \n16                 True  \n17                 True  ",
      "text/html": "<div>\n<style scoped>\n    .dataframe tbody tr th:only-of-type {\n        vertical-align: middle;\n    }\n\n    .dataframe tbody tr th {\n        vertical-align: top;\n    }\n\n    .dataframe thead th {\n        text-align: right;\n    }\n</style>\n<table border=\"1\" class=\"dataframe\">\n  <thead>\n    <tr style=\"text-align: right;\">\n      <th></th>\n      <th>Feature</th>\n      <th>Macro-feature Coefficient</th>\n      <th>Overall Coefficient</th>\n      <th>Significant (95% CI)</th>\n    </tr>\n  </thead>\n  <tbody>\n    <tr>\n      <th>0</th>\n      <td>('ADP',)</td>\n      <td>0.497501</td>\n      <td>0.310336</td>\n      <td>True</td>\n    </tr>\n    <tr>\n      <th>1</th>\n      <td>('PROPN',)</td>\n      <td>0.468559</td>\n      <td>0.292282</td>\n      <td>True</td>\n    </tr>\n    <tr>\n      <th>2</th>\n      <td>('PUNCT',)</td>\n      <td>0.420398</td>\n      <td>0.26224</td>\n      <td>True</td>\n    </tr>\n    <tr>\n      <th>3</th>\n      <td>('PART',)</td>\n      <td>0.27818</td>\n      <td>0.173526</td>\n      <td>True</td>\n    </tr>\n    <tr>\n      <th>4</th>\n      <td>('SPACE',)</td>\n      <td>0.108548</td>\n      <td>0.067711</td>\n      <td>True</td>\n    </tr>\n    <tr>\n      <th>5</th>\n      <td>('X',)pos</td>\n      <td>0.079206</td>\n      <td>0.049408</td>\n      <td>True</td>\n    </tr>\n    <tr>\n      <th>6</th>\n      <td>('SYM',)</td>\n      <td>0.02095</td>\n      <td>0.013069</td>\n      <td>True</td>\n    </tr>\n    <tr>\n      <th>7</th>\n      <td>('NUM',)</td>\n      <td>0.001617</td>\n      <td>0.001009</td>\n      <td>True</td>\n    </tr>\n    <tr>\n      <th>8</th>\n      <td>('X',)</td>\n      <td>-0.004802</td>\n      <td>-0.002995</td>\n      <td>True</td>\n    </tr>\n    <tr>\n      <th>9</th>\n      <td>('Interactive',)</td>\n      <td>-0.044485</td>\n      <td>-0.027749</td>\n      <td>True</td>\n    </tr>\n    <tr>\n      <th>10</th>\n      <td>('Description',)</td>\n      <td>-0.072195</td>\n      <td>-0.045035</td>\n      <td>True</td>\n    </tr>\n    <tr>\n      <th>11</th>\n      <td>('Narrative',)</td>\n      <td>-0.081216</td>\n      <td>-0.050662</td>\n      <td>True</td>\n    </tr>\n    <tr>\n      <th>12</th>\n      <td>('Positive',)</td>\n      <td>-0.123447</td>\n      <td>-0.077005</td>\n      <td>True</td>\n    </tr>\n    <tr>\n      <th>13</th>\n      <td>('DET',)</td>\n      <td>-0.145695</td>\n      <td>-0.090883</td>\n      <td>True</td>\n    </tr>\n    <tr>\n      <th>14</th>\n      <td>('Negative',)</td>\n      <td>-0.299101</td>\n      <td>-0.186576</td>\n      <td>True</td>\n    </tr>\n    <tr>\n      <th>15</th>\n      <td>('Character',)</td>\n      <td>-0.377214</td>\n      <td>-0.235302</td>\n      <td>True</td>\n    </tr>\n    <tr>\n      <th>16</th>\n      <td>('InformationPlace',)</td>\n      <td>-0.449384</td>\n      <td>-0.280321</td>\n      <td>True</td>\n    </tr>\n    <tr>\n      <th>17</th>\n      <td>('PublicTerms',)</td>\n      <td>-0.528599</td>\n      <td>-0.329734</td>\n      <td>True</td>\n    </tr>\n  </tbody>\n</table>\n</div>"
     },
     "metadata": {},
     "output_type": "display_data"
    },
    {
     "data": {
      "text/plain": "               Feature Macro-feature Coefficient Overall Coefficient  \\\n0   B05.timeAdverbials                  0.134163            0.092771   \n1  B04.placeAdverbials                  0.000315            0.000218   \n2      H36.concessives                 -0.022015           -0.015223   \n3        A03.presVerbs                 -0.052568            -0.03635   \n4        A01.pastVerbs                 -0.168765           -0.116697   \n\n  Significant (95% CI)  \n0                 True  \n1                 True  \n2                 True  \n3                 True  \n4                 True  ",
      "text/html": "<div>\n<style scoped>\n    .dataframe tbody tr th:only-of-type {\n        vertical-align: middle;\n    }\n\n    .dataframe tbody tr th {\n        vertical-align: top;\n    }\n\n    .dataframe thead th {\n        text-align: right;\n    }\n</style>\n<table border=\"1\" class=\"dataframe\">\n  <thead>\n    <tr style=\"text-align: right;\">\n      <th></th>\n      <th>Feature</th>\n      <th>Macro-feature Coefficient</th>\n      <th>Overall Coefficient</th>\n      <th>Significant (95% CI)</th>\n    </tr>\n  </thead>\n  <tbody>\n    <tr>\n      <th>0</th>\n      <td>B05.timeAdverbials</td>\n      <td>0.134163</td>\n      <td>0.092771</td>\n      <td>True</td>\n    </tr>\n    <tr>\n      <th>1</th>\n      <td>B04.placeAdverbials</td>\n      <td>0.000315</td>\n      <td>0.000218</td>\n      <td>True</td>\n    </tr>\n    <tr>\n      <th>2</th>\n      <td>H36.concessives</td>\n      <td>-0.022015</td>\n      <td>-0.015223</td>\n      <td>True</td>\n    </tr>\n    <tr>\n      <th>3</th>\n      <td>A03.presVerbs</td>\n      <td>-0.052568</td>\n      <td>-0.03635</td>\n      <td>True</td>\n    </tr>\n    <tr>\n      <th>4</th>\n      <td>A01.pastVerbs</td>\n      <td>-0.168765</td>\n      <td>-0.116697</td>\n      <td>True</td>\n    </tr>\n  </tbody>\n</table>\n</div>"
     },
     "metadata": {},
     "output_type": "display_data"
    },
    {
     "data": {
      "text/plain": "            Feature Macro-feature Coefficient Overall Coefficient  \\\n0  ('FirstPerson',)                  0.206661            0.076795   \n1    C06.1persProns                 -0.131908           -0.049017   \n\n  Significant (95% CI)  \n0                 True  \n1                 True  ",
      "text/html": "<div>\n<style scoped>\n    .dataframe tbody tr th:only-of-type {\n        vertical-align: middle;\n    }\n\n    .dataframe tbody tr th {\n        vertical-align: top;\n    }\n\n    .dataframe thead th {\n        text-align: right;\n    }\n</style>\n<table border=\"1\" class=\"dataframe\">\n  <thead>\n    <tr style=\"text-align: right;\">\n      <th></th>\n      <th>Feature</th>\n      <th>Macro-feature Coefficient</th>\n      <th>Overall Coefficient</th>\n      <th>Significant (95% CI)</th>\n    </tr>\n  </thead>\n  <tbody>\n    <tr>\n      <th>0</th>\n      <td>('FirstPerson',)</td>\n      <td>0.206661</td>\n      <td>0.076795</td>\n      <td>True</td>\n    </tr>\n    <tr>\n      <th>1</th>\n      <td>C06.1persProns</td>\n      <td>-0.131908</td>\n      <td>-0.049017</td>\n      <td>True</td>\n    </tr>\n  </tbody>\n</table>\n</div>"
     },
     "metadata": {},
     "output_type": "display_data"
    },
    {
     "data": {
      "text/plain": "            Feature Macro-feature Coefficient Overall Coefficient  \\\n0         E16.Nouns                  0.054592           -0.038385   \n1  N59.contractions                  0.044821           -0.031514   \n\n  Significant (95% CI)  \n0                 True  \n1                 True  ",
      "text/html": "<div>\n<style scoped>\n    .dataframe tbody tr th:only-of-type {\n        vertical-align: middle;\n    }\n\n    .dataframe tbody tr th {\n        vertical-align: top;\n    }\n\n    .dataframe thead th {\n        text-align: right;\n    }\n</style>\n<table border=\"1\" class=\"dataframe\">\n  <thead>\n    <tr style=\"text-align: right;\">\n      <th></th>\n      <th>Feature</th>\n      <th>Macro-feature Coefficient</th>\n      <th>Overall Coefficient</th>\n      <th>Significant (95% CI)</th>\n    </tr>\n  </thead>\n  <tbody>\n    <tr>\n      <th>0</th>\n      <td>E16.Nouns</td>\n      <td>0.054592</td>\n      <td>-0.038385</td>\n      <td>True</td>\n    </tr>\n    <tr>\n      <th>1</th>\n      <td>N59.contractions</td>\n      <td>0.044821</td>\n      <td>-0.031514</td>\n      <td>True</td>\n    </tr>\n  </tbody>\n</table>\n</div>"
     },
     "metadata": {},
     "output_type": "display_data"
    },
    {
     "data": {
      "text/plain": "            Feature Macro-feature Coefficient Overall Coefficient  \\\n0    H33.piedPiping                  0.120482           -0.012036   \n1     H23.WHclauses                 -0.005286            0.000528   \n2   D13.whQuestions                  -0.04823            0.004818   \n3  H34.sncRelatives                 -0.049403            0.004935   \n\n  Significant (95% CI)  \n0                 True  \n1                 True  \n2                 True  \n3                 True  ",
      "text/html": "<div>\n<style scoped>\n    .dataframe tbody tr th:only-of-type {\n        vertical-align: middle;\n    }\n\n    .dataframe tbody tr th {\n        vertical-align: top;\n    }\n\n    .dataframe thead th {\n        text-align: right;\n    }\n</style>\n<table border=\"1\" class=\"dataframe\">\n  <thead>\n    <tr style=\"text-align: right;\">\n      <th></th>\n      <th>Feature</th>\n      <th>Macro-feature Coefficient</th>\n      <th>Overall Coefficient</th>\n      <th>Significant (95% CI)</th>\n    </tr>\n  </thead>\n  <tbody>\n    <tr>\n      <th>0</th>\n      <td>H33.piedPiping</td>\n      <td>0.120482</td>\n      <td>-0.012036</td>\n      <td>True</td>\n    </tr>\n    <tr>\n      <th>1</th>\n      <td>H23.WHclauses</td>\n      <td>-0.005286</td>\n      <td>0.000528</td>\n      <td>True</td>\n    </tr>\n    <tr>\n      <th>2</th>\n      <td>D13.whQuestions</td>\n      <td>-0.04823</td>\n      <td>0.004818</td>\n      <td>True</td>\n    </tr>\n    <tr>\n      <th>3</th>\n      <td>H34.sncRelatives</td>\n      <td>-0.049403</td>\n      <td>0.004935</td>\n      <td>True</td>\n    </tr>\n  </tbody>\n</table>\n</div>"
     },
     "metadata": {},
     "output_type": "display_data"
    },
    {
     "data": {
      "text/plain": "            Feature Macro-feature Coefficient Overall Coefficient  \\\n0  L52.possibModals                  0.088385            0.028254   \n1       I39.preposn                  0.014157            0.004526   \n2  L54.predicModals                 -0.053839           -0.017211   \n3  L53.necessModals                    -0.058           -0.018541   \n4   H37.conditional                 -0.142499           -0.045553   \n5    C07.2persProns                 -0.181685            -0.05808   \n\n  Significant (95% CI)  \n0                 True  \n1                 True  \n2                 True  \n3                 True  \n4                 True  \n5                 True  ",
      "text/html": "<div>\n<style scoped>\n    .dataframe tbody tr th:only-of-type {\n        vertical-align: middle;\n    }\n\n    .dataframe tbody tr th {\n        vertical-align: top;\n    }\n\n    .dataframe thead th {\n        text-align: right;\n    }\n</style>\n<table border=\"1\" class=\"dataframe\">\n  <thead>\n    <tr style=\"text-align: right;\">\n      <th></th>\n      <th>Feature</th>\n      <th>Macro-feature Coefficient</th>\n      <th>Overall Coefficient</th>\n      <th>Significant (95% CI)</th>\n    </tr>\n  </thead>\n  <tbody>\n    <tr>\n      <th>0</th>\n      <td>L52.possibModals</td>\n      <td>0.088385</td>\n      <td>0.028254</td>\n      <td>True</td>\n    </tr>\n    <tr>\n      <th>1</th>\n      <td>I39.preposn</td>\n      <td>0.014157</td>\n      <td>0.004526</td>\n      <td>True</td>\n    </tr>\n    <tr>\n      <th>2</th>\n      <td>L54.predicModals</td>\n      <td>-0.053839</td>\n      <td>-0.017211</td>\n      <td>True</td>\n    </tr>\n    <tr>\n      <th>3</th>\n      <td>L53.necessModals</td>\n      <td>-0.058</td>\n      <td>-0.018541</td>\n      <td>True</td>\n    </tr>\n    <tr>\n      <th>4</th>\n      <td>H37.conditional</td>\n      <td>-0.142499</td>\n      <td>-0.045553</td>\n      <td>True</td>\n    </tr>\n    <tr>\n      <th>5</th>\n      <td>C07.2persProns</td>\n      <td>-0.181685</td>\n      <td>-0.05808</td>\n      <td>True</td>\n    </tr>\n  </tbody>\n</table>\n</div>"
     },
     "metadata": {},
     "output_type": "display_data"
    },
    {
     "data": {
      "text/plain": "                Feature Macro-feature Coefficient Overall Coefficient  \\\n0        K58.seemappear                  0.202226             0.17758   \n1     K50.discoursePart                  0.157607            0.138399   \n2        K46.downtoners                  0.133744            0.117444   \n3        K48.amplifiers                   0.11958            0.105006   \n4  K49.generalEmphatics                 -0.106394           -0.093428   \n5               I42.ADV                 -0.238595           -0.209517   \n\n  Significant (95% CI)  \n0                 True  \n1                 True  \n2                 True  \n3                 True  \n4                 True  \n5                 True  ",
      "text/html": "<div>\n<style scoped>\n    .dataframe tbody tr th:only-of-type {\n        vertical-align: middle;\n    }\n\n    .dataframe tbody tr th {\n        vertical-align: top;\n    }\n\n    .dataframe thead th {\n        text-align: right;\n    }\n</style>\n<table border=\"1\" class=\"dataframe\">\n  <thead>\n    <tr style=\"text-align: right;\">\n      <th></th>\n      <th>Feature</th>\n      <th>Macro-feature Coefficient</th>\n      <th>Overall Coefficient</th>\n      <th>Significant (95% CI)</th>\n    </tr>\n  </thead>\n  <tbody>\n    <tr>\n      <th>0</th>\n      <td>K58.seemappear</td>\n      <td>0.202226</td>\n      <td>0.17758</td>\n      <td>True</td>\n    </tr>\n    <tr>\n      <th>1</th>\n      <td>K50.discoursePart</td>\n      <td>0.157607</td>\n      <td>0.138399</td>\n      <td>True</td>\n    </tr>\n    <tr>\n      <th>2</th>\n      <td>K46.downtoners</td>\n      <td>0.133744</td>\n      <td>0.117444</td>\n      <td>True</td>\n    </tr>\n    <tr>\n      <th>3</th>\n      <td>K48.amplifiers</td>\n      <td>0.11958</td>\n      <td>0.105006</td>\n      <td>True</td>\n    </tr>\n    <tr>\n      <th>4</th>\n      <td>K49.generalEmphatics</td>\n      <td>-0.106394</td>\n      <td>-0.093428</td>\n      <td>True</td>\n    </tr>\n    <tr>\n      <th>5</th>\n      <td>I42.ADV</td>\n      <td>-0.238595</td>\n      <td>-0.209517</td>\n      <td>True</td>\n    </tr>\n  </tbody>\n</table>\n</div>"
     },
     "metadata": {},
     "output_type": "display_data"
    },
    {
     "data": {
      "text/plain": "               Feature Macro-feature Coefficient Overall Coefficient  \\\n0       J44.wordLength                   0.29764            0.177942   \n1      C12.doAsProVerb                  0.039526             0.02363   \n2    K47.generalHedges                 -0.021543           -0.012879   \n3       F18.BYpassives                 -0.028816           -0.017228   \n4          I40.attrAdj                 -0.056255           -0.033631   \n5       C08.3persProns                 -0.085919           -0.051366   \n6      H38.otherSubord                 -0.129195           -0.077239   \n7       C11.indefProns                 -0.188783           -0.112863   \n8  E14.nominalizations                 -0.257962           -0.154221   \n\n  Significant (95% CI)  \n0                 True  \n1                 True  \n2                 True  \n3                 True  \n4                 True  \n5                 True  \n6                 True  \n7                 True  \n8                 True  ",
      "text/html": "<div>\n<style scoped>\n    .dataframe tbody tr th:only-of-type {\n        vertical-align: middle;\n    }\n\n    .dataframe tbody tr th {\n        vertical-align: top;\n    }\n\n    .dataframe thead th {\n        text-align: right;\n    }\n</style>\n<table border=\"1\" class=\"dataframe\">\n  <thead>\n    <tr style=\"text-align: right;\">\n      <th></th>\n      <th>Feature</th>\n      <th>Macro-feature Coefficient</th>\n      <th>Overall Coefficient</th>\n      <th>Significant (95% CI)</th>\n    </tr>\n  </thead>\n  <tbody>\n    <tr>\n      <th>0</th>\n      <td>J44.wordLength</td>\n      <td>0.29764</td>\n      <td>0.177942</td>\n      <td>True</td>\n    </tr>\n    <tr>\n      <th>1</th>\n      <td>C12.doAsProVerb</td>\n      <td>0.039526</td>\n      <td>0.02363</td>\n      <td>True</td>\n    </tr>\n    <tr>\n      <th>2</th>\n      <td>K47.generalHedges</td>\n      <td>-0.021543</td>\n      <td>-0.012879</td>\n      <td>True</td>\n    </tr>\n    <tr>\n      <th>3</th>\n      <td>F18.BYpassives</td>\n      <td>-0.028816</td>\n      <td>-0.017228</td>\n      <td>True</td>\n    </tr>\n    <tr>\n      <th>4</th>\n      <td>I40.attrAdj</td>\n      <td>-0.056255</td>\n      <td>-0.033631</td>\n      <td>True</td>\n    </tr>\n    <tr>\n      <th>5</th>\n      <td>C08.3persProns</td>\n      <td>-0.085919</td>\n      <td>-0.051366</td>\n      <td>True</td>\n    </tr>\n    <tr>\n      <th>6</th>\n      <td>H38.otherSubord</td>\n      <td>-0.129195</td>\n      <td>-0.077239</td>\n      <td>True</td>\n    </tr>\n    <tr>\n      <th>7</th>\n      <td>C11.indefProns</td>\n      <td>-0.188783</td>\n      <td>-0.112863</td>\n      <td>True</td>\n    </tr>\n    <tr>\n      <th>8</th>\n      <td>E14.nominalizations</td>\n      <td>-0.257962</td>\n      <td>-0.154221</td>\n      <td>True</td>\n    </tr>\n  </tbody>\n</table>\n</div>"
     },
     "metadata": {},
     "output_type": "display_data"
    },
    {
     "data": {
      "text/plain": "             Feature Macro-feature Coefficient Overall Coefficient  \\\n0  C10.demonstrProns                  0.150898            0.079046   \n1            J43.TTR                  0.140229            0.073457   \n2       P67.analNegn                  0.114513            0.059986   \n3        I41.predAdj                   0.00526            0.002755   \n4      K45.conjuncts                 -0.086199           -0.045154   \n5    C09.impersProns                 -0.138328           -0.072461   \n6      H35.causative                 -0.184247           -0.096515   \n7       G19.beAsMain                 -0.211844           -0.110972   \n\n  Significant (95% CI)  \n0                 True  \n1                 True  \n2                 True  \n3                 True  \n4                 True  \n5                 True  \n6                 True  \n7                 True  ",
      "text/html": "<div>\n<style scoped>\n    .dataframe tbody tr th:only-of-type {\n        vertical-align: middle;\n    }\n\n    .dataframe tbody tr th {\n        vertical-align: top;\n    }\n\n    .dataframe thead th {\n        text-align: right;\n    }\n</style>\n<table border=\"1\" class=\"dataframe\">\n  <thead>\n    <tr style=\"text-align: right;\">\n      <th></th>\n      <th>Feature</th>\n      <th>Macro-feature Coefficient</th>\n      <th>Overall Coefficient</th>\n      <th>Significant (95% CI)</th>\n    </tr>\n  </thead>\n  <tbody>\n    <tr>\n      <th>0</th>\n      <td>C10.demonstrProns</td>\n      <td>0.150898</td>\n      <td>0.079046</td>\n      <td>True</td>\n    </tr>\n    <tr>\n      <th>1</th>\n      <td>J43.TTR</td>\n      <td>0.140229</td>\n      <td>0.073457</td>\n      <td>True</td>\n    </tr>\n    <tr>\n      <th>2</th>\n      <td>P67.analNegn</td>\n      <td>0.114513</td>\n      <td>0.059986</td>\n      <td>True</td>\n    </tr>\n    <tr>\n      <th>3</th>\n      <td>I41.predAdj</td>\n      <td>0.00526</td>\n      <td>0.002755</td>\n      <td>True</td>\n    </tr>\n    <tr>\n      <th>4</th>\n      <td>K45.conjuncts</td>\n      <td>-0.086199</td>\n      <td>-0.045154</td>\n      <td>True</td>\n    </tr>\n    <tr>\n      <th>5</th>\n      <td>C09.impersProns</td>\n      <td>-0.138328</td>\n      <td>-0.072461</td>\n      <td>True</td>\n    </tr>\n    <tr>\n      <th>6</th>\n      <td>H35.causative</td>\n      <td>-0.184247</td>\n      <td>-0.096515</td>\n      <td>True</td>\n    </tr>\n    <tr>\n      <th>7</th>\n      <td>G19.beAsMain</td>\n      <td>-0.211844</td>\n      <td>-0.110972</td>\n      <td>True</td>\n    </tr>\n  </tbody>\n</table>\n</div>"
     },
     "metadata": {},
     "output_type": "display_data"
    },
    {
     "data": {
      "text/plain": "             Feature Macro-feature Coefficient Overall Coefficient  \\\n0   N60.thatDeletion                  0.439997            0.202943   \n1  H25.presPartClaus                  0.259685            0.119776   \n2    K55.publicVerbs                 -0.069969           -0.032272   \n3   K56.privateVerbs                 -0.348816           -0.160887   \n\n  Significant (95% CI)  \n0                 True  \n1                 True  \n2                 True  \n3                 True  ",
      "text/html": "<div>\n<style scoped>\n    .dataframe tbody tr th:only-of-type {\n        vertical-align: middle;\n    }\n\n    .dataframe tbody tr th {\n        vertical-align: top;\n    }\n\n    .dataframe thead th {\n        text-align: right;\n    }\n</style>\n<table border=\"1\" class=\"dataframe\">\n  <thead>\n    <tr style=\"text-align: right;\">\n      <th></th>\n      <th>Feature</th>\n      <th>Macro-feature Coefficient</th>\n      <th>Overall Coefficient</th>\n      <th>Significant (95% CI)</th>\n    </tr>\n  </thead>\n  <tbody>\n    <tr>\n      <th>0</th>\n      <td>N60.thatDeletion</td>\n      <td>0.439997</td>\n      <td>0.202943</td>\n      <td>True</td>\n    </tr>\n    <tr>\n      <th>1</th>\n      <td>H25.presPartClaus</td>\n      <td>0.259685</td>\n      <td>0.119776</td>\n      <td>True</td>\n    </tr>\n    <tr>\n      <th>2</th>\n      <td>K55.publicVerbs</td>\n      <td>-0.069969</td>\n      <td>-0.032272</td>\n      <td>True</td>\n    </tr>\n    <tr>\n      <th>3</th>\n      <td>K56.privateVerbs</td>\n      <td>-0.348816</td>\n      <td>-0.160887</td>\n      <td>True</td>\n    </tr>\n  </tbody>\n</table>\n</div>"
     },
     "metadata": {},
     "output_type": "display_data"
    },
    {
     "data": {
      "text/plain": "            Feature Macro-feature Coefficient Overall Coefficient  \\\n0  N61.strandedPrep                  0.015244            0.001237   \n\n  Significant (95% CI)  \n0                 True  ",
      "text/html": "<div>\n<style scoped>\n    .dataframe tbody tr th:only-of-type {\n        vertical-align: middle;\n    }\n\n    .dataframe tbody tr th {\n        vertical-align: top;\n    }\n\n    .dataframe thead th {\n        text-align: right;\n    }\n</style>\n<table border=\"1\" class=\"dataframe\">\n  <thead>\n    <tr style=\"text-align: right;\">\n      <th></th>\n      <th>Feature</th>\n      <th>Macro-feature Coefficient</th>\n      <th>Overall Coefficient</th>\n      <th>Significant (95% CI)</th>\n    </tr>\n  </thead>\n  <tbody>\n    <tr>\n      <th>0</th>\n      <td>N61.strandedPrep</td>\n      <td>0.015244</td>\n      <td>0.001237</td>\n      <td>True</td>\n    </tr>\n  </tbody>\n</table>\n</div>"
     },
     "metadata": {},
     "output_type": "display_data"
    },
    {
     "data": {
      "text/plain": "                       Feature Macro-feature Coefficient Overall Coefficient  \\\n0                     ('ADV',)                   0.49972            0.309917   \n1                 ('Inquiry',)                  0.351652            0.218088   \n2        ('ConfidenceHedged',)                  0.165488            0.102633   \n3                    ('PRON',)                  0.115121            0.071396   \n4              ('Contingent',)                  0.102237            0.063405   \n5             ('Uncertainty',)                   0.09069            0.056244   \n6                 P66.syntNegn                   0.02481            0.015387   \n7                 ('Updates',)                  0.020028            0.012421   \n8                    ('INTJ',)                 -0.017986           -0.011155   \n9                  ('Future',)                 -0.021276           -0.013195   \n10      ('InformationStates',)                 -0.036855           -0.022857   \n11          ('ConfidenceLow',)                 -0.052222           -0.032387   \n12          ('ForceStressed',)                 -0.100033           -0.062038   \n13                  ('SCONJ',)                 -0.123116           -0.076354   \n14         ('Responsibility',)                 -0.156226           -0.096888   \n15         ('ConfidenceHigh',)                 -0.187456           -0.116256   \n16  ('MetadiscourseCohesive',)                 -0.237323           -0.147183   \n17                    ('AUX',)                  -0.32734            -0.20301   \n\n   Significant (95% CI)  \n0                  True  \n1                  True  \n2                  True  \n3                  True  \n4                  True  \n5                  True  \n6                  True  \n7                  True  \n8                  True  \n9                  True  \n10                 True  \n11                 True  \n12                 True  \n13                 True  \n14                 True  \n15                 True  \n16                 True  \n17                 True  ",
      "text/html": "<div>\n<style scoped>\n    .dataframe tbody tr th:only-of-type {\n        vertical-align: middle;\n    }\n\n    .dataframe tbody tr th {\n        vertical-align: top;\n    }\n\n    .dataframe thead th {\n        text-align: right;\n    }\n</style>\n<table border=\"1\" class=\"dataframe\">\n  <thead>\n    <tr style=\"text-align: right;\">\n      <th></th>\n      <th>Feature</th>\n      <th>Macro-feature Coefficient</th>\n      <th>Overall Coefficient</th>\n      <th>Significant (95% CI)</th>\n    </tr>\n  </thead>\n  <tbody>\n    <tr>\n      <th>0</th>\n      <td>('ADV',)</td>\n      <td>0.49972</td>\n      <td>0.309917</td>\n      <td>True</td>\n    </tr>\n    <tr>\n      <th>1</th>\n      <td>('Inquiry',)</td>\n      <td>0.351652</td>\n      <td>0.218088</td>\n      <td>True</td>\n    </tr>\n    <tr>\n      <th>2</th>\n      <td>('ConfidenceHedged',)</td>\n      <td>0.165488</td>\n      <td>0.102633</td>\n      <td>True</td>\n    </tr>\n    <tr>\n      <th>3</th>\n      <td>('PRON',)</td>\n      <td>0.115121</td>\n      <td>0.071396</td>\n      <td>True</td>\n    </tr>\n    <tr>\n      <th>4</th>\n      <td>('Contingent',)</td>\n      <td>0.102237</td>\n      <td>0.063405</td>\n      <td>True</td>\n    </tr>\n    <tr>\n      <th>5</th>\n      <td>('Uncertainty',)</td>\n      <td>0.09069</td>\n      <td>0.056244</td>\n      <td>True</td>\n    </tr>\n    <tr>\n      <th>6</th>\n      <td>P66.syntNegn</td>\n      <td>0.02481</td>\n      <td>0.015387</td>\n      <td>True</td>\n    </tr>\n    <tr>\n      <th>7</th>\n      <td>('Updates',)</td>\n      <td>0.020028</td>\n      <td>0.012421</td>\n      <td>True</td>\n    </tr>\n    <tr>\n      <th>8</th>\n      <td>('INTJ',)</td>\n      <td>-0.017986</td>\n      <td>-0.011155</td>\n      <td>True</td>\n    </tr>\n    <tr>\n      <th>9</th>\n      <td>('Future',)</td>\n      <td>-0.021276</td>\n      <td>-0.013195</td>\n      <td>True</td>\n    </tr>\n    <tr>\n      <th>10</th>\n      <td>('InformationStates',)</td>\n      <td>-0.036855</td>\n      <td>-0.022857</td>\n      <td>True</td>\n    </tr>\n    <tr>\n      <th>11</th>\n      <td>('ConfidenceLow',)</td>\n      <td>-0.052222</td>\n      <td>-0.032387</td>\n      <td>True</td>\n    </tr>\n    <tr>\n      <th>12</th>\n      <td>('ForceStressed',)</td>\n      <td>-0.100033</td>\n      <td>-0.062038</td>\n      <td>True</td>\n    </tr>\n    <tr>\n      <th>13</th>\n      <td>('SCONJ',)</td>\n      <td>-0.123116</td>\n      <td>-0.076354</td>\n      <td>True</td>\n    </tr>\n    <tr>\n      <th>14</th>\n      <td>('Responsibility',)</td>\n      <td>-0.156226</td>\n      <td>-0.096888</td>\n      <td>True</td>\n    </tr>\n    <tr>\n      <th>15</th>\n      <td>('ConfidenceHigh',)</td>\n      <td>-0.187456</td>\n      <td>-0.116256</td>\n      <td>True</td>\n    </tr>\n    <tr>\n      <th>16</th>\n      <td>('MetadiscourseCohesive',)</td>\n      <td>-0.237323</td>\n      <td>-0.147183</td>\n      <td>True</td>\n    </tr>\n    <tr>\n      <th>17</th>\n      <td>('AUX',)</td>\n      <td>-0.32734</td>\n      <td>-0.20301</td>\n      <td>True</td>\n    </tr>\n  </tbody>\n</table>\n</div>"
     },
     "metadata": {},
     "output_type": "display_data"
    },
    {
     "data": {
      "text/plain": "                           Feature Macro-feature Coefficient  \\\n0               ('AcademicTerms',)                  0.475837   \n1                        ('VERB',)                  0.275175   \n2                    ('Citation',)                  0.214097   \n3       ('InformationExposition',)                   0.19503   \n4    ('MetadiscourseInteractive',)                  0.141426   \n5        ('AcademicWritingMoves',)                  0.103416   \n6                  ('Facilitate',)                  0.101913   \n7   ('InformationChangeNegative',)                  0.095973   \n8   ('InformationChangePositive',)                   0.06447   \n9           ('CitationAuthority',)                   0.01802   \n10          ('InformationTopics',)                  0.009634   \n11          ('InformationChange',)                 -0.007466   \n12                  ('Strategic',)                  -0.09639   \n13                      ('CCONJ',)                 -0.098366   \n14     ('InformationReportVerbs',)                 -0.123214   \n15                  ('Reasoning',)                 -0.141599   \n16                        ('ADJ',)                 -0.249516   \n17                       ('NOUN',)                 -0.539456   \n\n   Overall Coefficient Significant (95% CI)  \n0             0.176297                 True  \n1             0.101952                 True  \n2             0.079323                 True  \n3             0.072259                 True  \n4             0.052398                 True  \n5             0.038315                 True  \n6             0.037759                 True  \n7             0.035558                 True  \n8             0.023886                 True  \n9             0.006676                 True  \n10            0.003569                 True  \n11           -0.002766                 True  \n12           -0.035712                 True  \n13           -0.036445                 True  \n14           -0.045651                 True  \n15           -0.052463                 True  \n16           -0.092446                 True  \n17           -0.199868                 True  ",
      "text/html": "<div>\n<style scoped>\n    .dataframe tbody tr th:only-of-type {\n        vertical-align: middle;\n    }\n\n    .dataframe tbody tr th {\n        vertical-align: top;\n    }\n\n    .dataframe thead th {\n        text-align: right;\n    }\n</style>\n<table border=\"1\" class=\"dataframe\">\n  <thead>\n    <tr style=\"text-align: right;\">\n      <th></th>\n      <th>Feature</th>\n      <th>Macro-feature Coefficient</th>\n      <th>Overall Coefficient</th>\n      <th>Significant (95% CI)</th>\n    </tr>\n  </thead>\n  <tbody>\n    <tr>\n      <th>0</th>\n      <td>('AcademicTerms',)</td>\n      <td>0.475837</td>\n      <td>0.176297</td>\n      <td>True</td>\n    </tr>\n    <tr>\n      <th>1</th>\n      <td>('VERB',)</td>\n      <td>0.275175</td>\n      <td>0.101952</td>\n      <td>True</td>\n    </tr>\n    <tr>\n      <th>2</th>\n      <td>('Citation',)</td>\n      <td>0.214097</td>\n      <td>0.079323</td>\n      <td>True</td>\n    </tr>\n    <tr>\n      <th>3</th>\n      <td>('InformationExposition',)</td>\n      <td>0.19503</td>\n      <td>0.072259</td>\n      <td>True</td>\n    </tr>\n    <tr>\n      <th>4</th>\n      <td>('MetadiscourseInteractive',)</td>\n      <td>0.141426</td>\n      <td>0.052398</td>\n      <td>True</td>\n    </tr>\n    <tr>\n      <th>5</th>\n      <td>('AcademicWritingMoves',)</td>\n      <td>0.103416</td>\n      <td>0.038315</td>\n      <td>True</td>\n    </tr>\n    <tr>\n      <th>6</th>\n      <td>('Facilitate',)</td>\n      <td>0.101913</td>\n      <td>0.037759</td>\n      <td>True</td>\n    </tr>\n    <tr>\n      <th>7</th>\n      <td>('InformationChangeNegative',)</td>\n      <td>0.095973</td>\n      <td>0.035558</td>\n      <td>True</td>\n    </tr>\n    <tr>\n      <th>8</th>\n      <td>('InformationChangePositive',)</td>\n      <td>0.06447</td>\n      <td>0.023886</td>\n      <td>True</td>\n    </tr>\n    <tr>\n      <th>9</th>\n      <td>('CitationAuthority',)</td>\n      <td>0.01802</td>\n      <td>0.006676</td>\n      <td>True</td>\n    </tr>\n    <tr>\n      <th>10</th>\n      <td>('InformationTopics',)</td>\n      <td>0.009634</td>\n      <td>0.003569</td>\n      <td>True</td>\n    </tr>\n    <tr>\n      <th>11</th>\n      <td>('InformationChange',)</td>\n      <td>-0.007466</td>\n      <td>-0.002766</td>\n      <td>True</td>\n    </tr>\n    <tr>\n      <th>12</th>\n      <td>('Strategic',)</td>\n      <td>-0.09639</td>\n      <td>-0.035712</td>\n      <td>True</td>\n    </tr>\n    <tr>\n      <th>13</th>\n      <td>('CCONJ',)</td>\n      <td>-0.098366</td>\n      <td>-0.036445</td>\n      <td>True</td>\n    </tr>\n    <tr>\n      <th>14</th>\n      <td>('InformationReportVerbs',)</td>\n      <td>-0.123214</td>\n      <td>-0.045651</td>\n      <td>True</td>\n    </tr>\n    <tr>\n      <th>15</th>\n      <td>('Reasoning',)</td>\n      <td>-0.141599</td>\n      <td>-0.052463</td>\n      <td>True</td>\n    </tr>\n    <tr>\n      <th>16</th>\n      <td>('ADJ',)</td>\n      <td>-0.249516</td>\n      <td>-0.092446</td>\n      <td>True</td>\n    </tr>\n    <tr>\n      <th>17</th>\n      <td>('NOUN',)</td>\n      <td>-0.539456</td>\n      <td>-0.199868</td>\n      <td>True</td>\n    </tr>\n  </tbody>\n</table>\n</div>"
     },
     "metadata": {},
     "output_type": "display_data"
    }
   ],
   "source": [
    "# Re-train the model on the entire dataset\n",
    "ct = ClusteringTransformer(AffinityPropagation(affinity='precomputed'), lr=True)\n",
    "ct.fit(features, target)\n",
    "transformed_features = ct.transform(features)\n",
    "\n",
    "# Train the logisitc regression head\n",
    "model = LogisticRegression(class_weight='balanced')\n",
    "model.fit(transformed_features, target)\n",
    "model_coefficients = model.coef_[0]\n",
    "macro_significance = lr_CI(transformed_features, target, model)  # significance of each loading\n",
    "\n",
    "# We write all the loadings to an Excel file, with each sheet representing a new loading\n",
    "writer = pd.ExcelWriter(\"fca_loadings.xlsx\", engine=\"xlsxwriter\")\n",
    "coef_dict = dict()\n",
    "\n",
    "# Iterate over the loadings\n",
    "for i, (coef, mask, model, sig) in enumerate(zip(model_coefficients, ct.feature_masks, ct.feature_loadings, macro_significance), start=1):\n",
    "    local_coef = model.coef_[0]  # the coefficients for this specific loading\n",
    "    significant_95 = lr_CI(features[:, mask], target, model, alpha=0.95, n=1000)  # run bootstrapping\n",
    "\n",
    "    # put everything in a nice table\n",
    "    mf_df = pd.DataFrame(\n",
    "        np.array((feature_names[mask], local_coef, local_coef * coef, significant_95)).T,\n",
    "        columns=['Feature', 'Macro-feature Coefficient', 'Overall Coefficient', 'Significant (95% CI)']\n",
    "    )\n",
    "    mf_df = mf_df.iloc[np.argsort(-local_coef)].reset_index(drop=True)  # sort values for easier viewing\n",
    "    if coef != 0:\n",
    "        # display significant loadings\n",
    "        display(mf_df)\n",
    "\n",
    "    # write to the Excel file. Insignificant loadings get marked with '(INSIG)' in their sheet names\n",
    "    mf_df.to_excel(writer, sheet_name=f\"{'(INSIG) ' if not sig else ''}Loading {i} | {round(coef, 5)}\", index=False)\n",
    "    coef_dict.update(dict(zip(feature_names[mask], local_coef * coef)))\n",
    "\n",
    "writer.close()"
   ],
   "metadata": {
    "collapsed": false
   }
  },
  {
   "cell_type": "markdown",
   "source": [
    "# Coefficient Comparison\n",
    "As FCA (our method), PCA, and Factor Analysis are all linear methods, we can get overall coefficients per each!\n",
    "This is really just multiplying out the coefficients for multiple sequential linear transformations."
   ],
   "metadata": {
    "collapsed": false
   }
  },
  {
   "cell_type": "code",
   "execution_count": 13,
   "outputs": [],
   "source": [
    "# some clustering methods don't put features in any cluster, so we set those features to zero weight\n",
    "fca_coefficients = np.array([coef_dict[name] if name in coef_dict else 0.0 for name in feature_names])"
   ],
   "metadata": {
    "collapsed": false
   }
  },
  {
   "cell_type": "code",
   "execution_count": 25,
   "outputs": [],
   "source": [
    "# PCA\n",
    "pca_model = GridSearchCV(\n",
    "    estimator=Pipeline([\n",
    "        ('pca', PCA()),\n",
    "        ('pred', LogisticRegression(class_weight='balanced'))\n",
    "    ]),\n",
    "    param_grid={'pca__n_components': [2, 3, 5, 10, 15, 20,]}\n",
    ")\n",
    "\n",
    "pca_model.fit(features, target)\n",
    "\n",
    "\n",
    "pca_coefficients = (pca_model.best_estimator_['pred'].coef_ @ pca_model.best_estimator_['pca'].components_)[0]"
   ],
   "metadata": {
    "collapsed": false
   }
  },
  {
   "cell_type": "code",
   "execution_count": 26,
   "outputs": [],
   "source": [
    "# FA\n",
    "fa_model = GridSearchCV(\n",
    "    estimator=Pipeline([\n",
    "        ('fa', FactorAnalysis()),\n",
    "        ('pred', LogisticRegression(class_weight='balanced'))\n",
    "    ]),\n",
    "    param_grid={'fa__n_components': [2, 3, 5, 10, 15, 20,]}\n",
    ")\n",
    "fa_model.fit(features, target)\n",
    "fa_coefficients = (fa_model.best_estimator_['pred'].coef_ @ fa_model.best_estimator_['fa'].components_)[0]"
   ],
   "metadata": {
    "collapsed": false
   }
  },
  {
   "cell_type": "code",
   "execution_count": 27,
   "outputs": [
    {
     "data": {
      "text/plain": "                       Feature FCA Coef. PCA Coef.  FA Coef. Abs FCA Coef.  \\\n0           ('AcademicTerms',)  0.176297  0.039882  0.159494      0.176297   \n1    ('AcademicWritingMoves',)  0.038315   0.00994  0.038004      0.038315   \n2               ('Character',) -0.235302 -0.005888  0.079054      0.235302   \n3                ('Citation',)  0.079323  0.019483  0.122169      0.079323   \n4       ('CitationAuthority',)  0.006676 -0.013826  0.068928      0.006676   \n..                         ...       ...       ...       ...           ...   \n98                  ('SCONJ',) -0.076354  -0.02366  0.034065      0.076354   \n99                  ('SPACE',)  0.067711  0.045629  0.126262      0.067711   \n100                   ('SYM',)  0.013069  0.027158  0.172491      0.013069   \n101                  ('VERB',)  0.101952  0.003886  0.097191      0.101952   \n102                  ('X',)pos  0.049408   0.00189  0.098121      0.049408   \n\n    Abs PCA Coef. Abs FA Coef.  \n0        0.039882     0.159494  \n1         0.00994     0.038004  \n2        0.005888     0.079054  \n3        0.019483     0.122169  \n4        0.013826     0.068928  \n..            ...          ...  \n98        0.02366     0.034065  \n99       0.045629     0.126262  \n100      0.027158     0.172491  \n101      0.003886     0.097191  \n102       0.00189     0.098121  \n\n[103 rows x 7 columns]",
      "text/html": "<div>\n<style scoped>\n    .dataframe tbody tr th:only-of-type {\n        vertical-align: middle;\n    }\n\n    .dataframe tbody tr th {\n        vertical-align: top;\n    }\n\n    .dataframe thead th {\n        text-align: right;\n    }\n</style>\n<table border=\"1\" class=\"dataframe\">\n  <thead>\n    <tr style=\"text-align: right;\">\n      <th></th>\n      <th>Feature</th>\n      <th>FCA Coef.</th>\n      <th>PCA Coef.</th>\n      <th>FA Coef.</th>\n      <th>Abs FCA Coef.</th>\n      <th>Abs PCA Coef.</th>\n      <th>Abs FA Coef.</th>\n    </tr>\n  </thead>\n  <tbody>\n    <tr>\n      <th>0</th>\n      <td>('AcademicTerms',)</td>\n      <td>0.176297</td>\n      <td>0.039882</td>\n      <td>0.159494</td>\n      <td>0.176297</td>\n      <td>0.039882</td>\n      <td>0.159494</td>\n    </tr>\n    <tr>\n      <th>1</th>\n      <td>('AcademicWritingMoves',)</td>\n      <td>0.038315</td>\n      <td>0.00994</td>\n      <td>0.038004</td>\n      <td>0.038315</td>\n      <td>0.00994</td>\n      <td>0.038004</td>\n    </tr>\n    <tr>\n      <th>2</th>\n      <td>('Character',)</td>\n      <td>-0.235302</td>\n      <td>-0.005888</td>\n      <td>0.079054</td>\n      <td>0.235302</td>\n      <td>0.005888</td>\n      <td>0.079054</td>\n    </tr>\n    <tr>\n      <th>3</th>\n      <td>('Citation',)</td>\n      <td>0.079323</td>\n      <td>0.019483</td>\n      <td>0.122169</td>\n      <td>0.079323</td>\n      <td>0.019483</td>\n      <td>0.122169</td>\n    </tr>\n    <tr>\n      <th>4</th>\n      <td>('CitationAuthority',)</td>\n      <td>0.006676</td>\n      <td>-0.013826</td>\n      <td>0.068928</td>\n      <td>0.006676</td>\n      <td>0.013826</td>\n      <td>0.068928</td>\n    </tr>\n    <tr>\n      <th>...</th>\n      <td>...</td>\n      <td>...</td>\n      <td>...</td>\n      <td>...</td>\n      <td>...</td>\n      <td>...</td>\n      <td>...</td>\n    </tr>\n    <tr>\n      <th>98</th>\n      <td>('SCONJ',)</td>\n      <td>-0.076354</td>\n      <td>-0.02366</td>\n      <td>0.034065</td>\n      <td>0.076354</td>\n      <td>0.02366</td>\n      <td>0.034065</td>\n    </tr>\n    <tr>\n      <th>99</th>\n      <td>('SPACE',)</td>\n      <td>0.067711</td>\n      <td>0.045629</td>\n      <td>0.126262</td>\n      <td>0.067711</td>\n      <td>0.045629</td>\n      <td>0.126262</td>\n    </tr>\n    <tr>\n      <th>100</th>\n      <td>('SYM',)</td>\n      <td>0.013069</td>\n      <td>0.027158</td>\n      <td>0.172491</td>\n      <td>0.013069</td>\n      <td>0.027158</td>\n      <td>0.172491</td>\n    </tr>\n    <tr>\n      <th>101</th>\n      <td>('VERB',)</td>\n      <td>0.101952</td>\n      <td>0.003886</td>\n      <td>0.097191</td>\n      <td>0.101952</td>\n      <td>0.003886</td>\n      <td>0.097191</td>\n    </tr>\n    <tr>\n      <th>102</th>\n      <td>('X',)pos</td>\n      <td>0.049408</td>\n      <td>0.00189</td>\n      <td>0.098121</td>\n      <td>0.049408</td>\n      <td>0.00189</td>\n      <td>0.098121</td>\n    </tr>\n  </tbody>\n</table>\n<p>103 rows × 7 columns</p>\n</div>"
     },
     "execution_count": 27,
     "metadata": {},
     "output_type": "execute_result"
    }
   ],
   "source": [
    "coef_df = pd.DataFrame(\n",
    "    np.array((feature_names, fca_coefficients, pca_coefficients, fa_coefficients,\n",
    "              np.abs(fca_coefficients), np.abs(pca_coefficients), np.abs(fa_coefficients))).T,\n",
    "    columns=['Feature', 'FCA Coef.', 'PCA Coef.', 'FA Coef.',\n",
    "             'Abs FCA Coef.', 'Abs PCA Coef.', 'Abs FA Coef.']\n",
    ")\n",
    "coef_df"
   ],
   "metadata": {
    "collapsed": false
   }
  },
  {
   "cell_type": "code",
   "execution_count": 28,
   "outputs": [],
   "source": [
    "coef_df.to_csv('coefficients.csv', index=False)"
   ],
   "metadata": {
    "collapsed": false
   }
  },
  {
   "cell_type": "code",
   "execution_count": 30,
   "outputs": [],
   "source": [],
   "metadata": {
    "collapsed": false
   }
  },
  {
   "cell_type": "code",
   "execution_count": null,
   "outputs": [],
   "source": [],
   "metadata": {
    "collapsed": false
   }
  }
 ],
 "metadata": {
  "kernelspec": {
   "display_name": "Python 3",
   "language": "python",
   "name": "python3"
  },
  "language_info": {
   "codemirror_mode": {
    "name": "ipython",
    "version": 2
   },
   "file_extension": ".py",
   "mimetype": "text/x-python",
   "name": "python",
   "nbconvert_exporter": "python",
   "pygments_lexer": "ipython2",
   "version": "2.7.6"
  }
 },
 "nbformat": 4,
 "nbformat_minor": 0
}
